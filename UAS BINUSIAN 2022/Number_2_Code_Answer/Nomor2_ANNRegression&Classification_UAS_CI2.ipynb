{
 "cells": [
  {
   "cell_type": "markdown",
   "metadata": {
    "id": "zfO5AnMZzWhv"
   },
   "source": [
    "### NIM         : 2201741971 / 2401822232\n",
    "### Name        : Edward\n",
    "### Class       : LTY2\n",
    "### Course      : Selected Topics in Computational Intelligence II\n",
    "### Course Code : COMP8039041\n",
    "### Source    : https://machinelearningmastery.com/neural-network-models-for-combined-classification-and-regression/"
   ]
  },
  {
   "cell_type": "markdown",
   "metadata": {
    "id": "iJRC-adFzvuL"
   },
   "source": [
    "### Import Required Library"
   ]
  },
  {
   "cell_type": "code",
   "execution_count": 1,
   "metadata": {
    "id": "PLESXWUDzx6B"
   },
   "outputs": [],
   "source": [
    "import os\n",
    "os.environ['TF_CPP_MIN_LOG_LEVEL'] = '2'\n",
    "\n",
    "from numpy import unique\n",
    "from numpy import argmax\n",
    "from pandas import read_csv\n",
    "from sklearn.metrics import mean_absolute_error\n",
    "from sklearn.metrics import accuracy_score\n",
    "from sklearn.model_selection import train_test_split\n",
    "from sklearn.preprocessing import LabelEncoder\n",
    "import tensorflow as tf\n",
    "from tensorflow import keras\n",
    "from tensorflow.keras.models import Model\n",
    "from tensorflow.keras.layers import Input\n",
    "from tensorflow.keras.layers import Dense\n",
    "from tensorflow.keras.utils import plot_model"
   ]
  },
  {
   "cell_type": "markdown",
   "metadata": {
    "id": "MgRK2kfbzRqP"
   },
   "source": [
    "### Read Dataset"
   ]
  },
  {
   "cell_type": "code",
   "execution_count": 2,
   "metadata": {
    "colab": {
     "base_uri": "https://localhost:8080/"
    },
    "id": "0JKoIgx9y4yh",
    "outputId": "569e8daf-a512-4dfd-ddd8-fabc9511f5e3"
   },
   "outputs": [
    {
     "name": "stdout",
     "output_type": "stream",
     "text": [
      "(4177, 9)\n",
      "   0      1      2      3       4       5       6      7   8\n",
      "0  M  0.455  0.365  0.095  0.5140  0.2245  0.1010  0.150  15\n",
      "1  M  0.350  0.265  0.090  0.2255  0.0995  0.0485  0.070   7\n",
      "2  F  0.530  0.420  0.135  0.6770  0.2565  0.1415  0.210   9\n",
      "3  M  0.440  0.365  0.125  0.5160  0.2155  0.1140  0.155  10\n",
      "4  I  0.330  0.255  0.080  0.2050  0.0895  0.0395  0.055   7\n"
     ]
    }
   ],
   "source": [
    "# load and summarize the abalone dataset\n",
    "from pandas import read_csv\n",
    "from matplotlib import pyplot\n",
    "# load dataset\n",
    "url = 'https://raw.githubusercontent.com/jbrownlee/Datasets/master/abalone.csv'\n",
    "dataframe = read_csv(url, header=None)\n",
    "# summarize shape\n",
    "print(dataframe.shape)\n",
    "# summarize first few lines\n",
    "print(dataframe.head())"
   ]
  },
  {
   "cell_type": "markdown",
   "metadata": {
    "id": "wUCWHSsAzap6"
   },
   "source": [
    "### Training Preparation"
   ]
  },
  {
   "cell_type": "code",
   "execution_count": 3,
   "metadata": {
    "id": "wIgZYKr6zOGU"
   },
   "outputs": [],
   "source": [
    "dataset = dataframe.values\n",
    "\n",
    "# split into input (X) and output (y) variables\n",
    "X, y = dataset[:, 1:-1], dataset[:, -1]\n",
    "X, y = X.astype('float'), y.astype('float')\n",
    "n_features = X.shape[1]"
   ]
  },
  {
   "cell_type": "code",
   "execution_count": 4,
   "metadata": {
    "id": "9Xwci-Uz1-ol"
   },
   "outputs": [],
   "source": [
    "# encode strings to integer\n",
    "y_class = LabelEncoder().fit_transform(y)\n",
    "n_class = len(unique(y_class))"
   ]
  },
  {
   "cell_type": "markdown",
   "metadata": {
    "id": "4Vr15sda4lVP"
   },
   "source": [
    "### Split Data"
   ]
  },
  {
   "cell_type": "code",
   "execution_count": 5,
   "metadata": {
    "id": "1yTO5M2u1rVa"
   },
   "outputs": [],
   "source": [
    "# split data into train and test sets\n",
    "X_train, X_test, y_train, y_test, y_train_class, y_test_class = train_test_split(X, y, y_class, test_size=0.33, random_state=1)"
   ]
  },
  {
   "cell_type": "markdown",
   "metadata": {
    "id": "V6uPh9Lr4okN"
   },
   "source": [
    "### Defined Architecture"
   ]
  },
  {
   "cell_type": "code",
   "execution_count": 6,
   "metadata": {
    "id": "1lRjI_hv1uuu"
   },
   "outputs": [],
   "source": [
    "# input\n",
    "visible = Input(shape=(n_features,))\n",
    "hidden1 = Dense(20, activation='relu', kernel_initializer='he_normal')(visible)\n",
    "hidden2 = Dense(10, activation='relu', kernel_initializer='he_normal')(hidden1)"
   ]
  },
  {
   "cell_type": "markdown",
   "metadata": {
    "id": "ox-R-7w_4roK"
   },
   "source": [
    "### Regression Model"
   ]
  },
  {
   "cell_type": "code",
   "execution_count": 7,
   "metadata": {
    "id": "zkuTGD9a2GFF"
   },
   "outputs": [],
   "source": [
    "# regression output\n",
    "out_reg = Dense(1, activation='linear')(hidden2)"
   ]
  },
  {
   "cell_type": "markdown",
   "metadata": {
    "id": "WJNvwB5h4t6o"
   },
   "source": [
    "### Classification Model"
   ]
  },
  {
   "cell_type": "code",
   "execution_count": 8,
   "metadata": {
    "id": "quglyslo2IVX"
   },
   "outputs": [],
   "source": [
    "# classification output\n",
    "out_clas = Dense(n_class, activation='softmax')(hidden2)"
   ]
  },
  {
   "cell_type": "markdown",
   "metadata": {
    "id": "jIj0owL24yHl"
   },
   "source": [
    "### Defined Model and Fitting"
   ]
  },
  {
   "cell_type": "code",
   "execution_count": 9,
   "metadata": {
    "colab": {
     "base_uri": "https://localhost:8080/"
    },
    "id": "NJV-o1pb2MFG",
    "outputId": "0ca7c530-db4b-4f51-a0be-8d30721796e2"
   },
   "outputs": [
    {
     "name": "stdout",
     "output_type": "stream",
     "text": [
      "Epoch 1/150\n",
      "88/88 - 1s - loss: 92.1937 - dense_2_loss: 88.9471 - dense_3_loss: 3.2466 - 1s/epoch - 12ms/step\n",
      "Epoch 2/150\n",
      "88/88 - 0s - loss: 35.7429 - dense_2_loss: 33.0414 - dense_3_loss: 2.7015 - 141ms/epoch - 2ms/step\n",
      "Epoch 3/150\n",
      "88/88 - 0s - loss: 12.5383 - dense_2_loss: 9.9855 - dense_3_loss: 2.5528 - 218ms/epoch - 2ms/step\n",
      "Epoch 4/150\n",
      "88/88 - 0s - loss: 11.8079 - dense_2_loss: 9.2864 - dense_3_loss: 2.5215 - 301ms/epoch - 3ms/step\n",
      "Epoch 5/150\n",
      "88/88 - 0s - loss: 11.3448 - dense_2_loss: 8.8353 - dense_3_loss: 2.5095 - 249ms/epoch - 3ms/step\n",
      "Epoch 6/150\n",
      "88/88 - 0s - loss: 10.9135 - dense_2_loss: 8.4126 - dense_3_loss: 2.5010 - 298ms/epoch - 3ms/step\n",
      "Epoch 7/150\n",
      "88/88 - 0s - loss: 10.5189 - dense_2_loss: 8.0257 - dense_3_loss: 2.4932 - 283ms/epoch - 3ms/step\n",
      "Epoch 8/150\n",
      "88/88 - 0s - loss: 10.1520 - dense_2_loss: 7.6642 - dense_3_loss: 2.4879 - 285ms/epoch - 3ms/step\n",
      "Epoch 9/150\n",
      "88/88 - 0s - loss: 9.8266 - dense_2_loss: 7.3437 - dense_3_loss: 2.4829 - 402ms/epoch - 5ms/step\n",
      "Epoch 10/150\n",
      "88/88 - 0s - loss: 9.5580 - dense_2_loss: 7.0805 - dense_3_loss: 2.4775 - 355ms/epoch - 4ms/step\n",
      "Epoch 11/150\n",
      "88/88 - 0s - loss: 9.3158 - dense_2_loss: 6.8420 - dense_3_loss: 2.4738 - 427ms/epoch - 5ms/step\n",
      "Epoch 12/150\n",
      "88/88 - 0s - loss: 9.1194 - dense_2_loss: 6.6512 - dense_3_loss: 2.4682 - 342ms/epoch - 4ms/step\n",
      "Epoch 13/150\n",
      "88/88 - 0s - loss: 8.9748 - dense_2_loss: 6.5146 - dense_3_loss: 2.4602 - 447ms/epoch - 5ms/step\n",
      "Epoch 14/150\n",
      "88/88 - 0s - loss: 8.8864 - dense_2_loss: 6.4303 - dense_3_loss: 2.4562 - 411ms/epoch - 5ms/step\n",
      "Epoch 15/150\n",
      "88/88 - 0s - loss: 8.7590 - dense_2_loss: 6.3136 - dense_3_loss: 2.4454 - 478ms/epoch - 5ms/step\n",
      "Epoch 16/150\n",
      "88/88 - 0s - loss: 8.6753 - dense_2_loss: 6.2358 - dense_3_loss: 2.4395 - 359ms/epoch - 4ms/step\n",
      "Epoch 17/150\n",
      "88/88 - 0s - loss: 8.5912 - dense_2_loss: 6.1600 - dense_3_loss: 2.4312 - 386ms/epoch - 4ms/step\n",
      "Epoch 18/150\n",
      "88/88 - 0s - loss: 8.5257 - dense_2_loss: 6.1038 - dense_3_loss: 2.4219 - 329ms/epoch - 4ms/step\n",
      "Epoch 19/150\n",
      "88/88 - 0s - loss: 8.4307 - dense_2_loss: 6.0185 - dense_3_loss: 2.4122 - 375ms/epoch - 4ms/step\n",
      "Epoch 20/150\n",
      "88/88 - 1s - loss: 8.3672 - dense_2_loss: 5.9629 - dense_3_loss: 2.4043 - 551ms/epoch - 6ms/step\n",
      "Epoch 21/150\n",
      "88/88 - 0s - loss: 8.3144 - dense_2_loss: 5.9199 - dense_3_loss: 2.3945 - 470ms/epoch - 5ms/step\n",
      "Epoch 22/150\n",
      "88/88 - 0s - loss: 8.2285 - dense_2_loss: 5.8406 - dense_3_loss: 2.3880 - 438ms/epoch - 5ms/step\n",
      "Epoch 23/150\n",
      "88/88 - 0s - loss: 8.1922 - dense_2_loss: 5.8147 - dense_3_loss: 2.3774 - 453ms/epoch - 5ms/step\n",
      "Epoch 24/150\n",
      "88/88 - 0s - loss: 8.1074 - dense_2_loss: 5.7383 - dense_3_loss: 2.3691 - 487ms/epoch - 6ms/step\n",
      "Epoch 25/150\n",
      "88/88 - 0s - loss: 8.0170 - dense_2_loss: 5.6565 - dense_3_loss: 2.3605 - 364ms/epoch - 4ms/step\n",
      "Epoch 26/150\n",
      "88/88 - 0s - loss: 7.9752 - dense_2_loss: 5.6197 - dense_3_loss: 2.3555 - 329ms/epoch - 4ms/step\n",
      "Epoch 27/150\n",
      "88/88 - 0s - loss: 7.8983 - dense_2_loss: 5.5499 - dense_3_loss: 2.3484 - 328ms/epoch - 4ms/step\n",
      "Epoch 28/150\n",
      "88/88 - 0s - loss: 7.8378 - dense_2_loss: 5.4965 - dense_3_loss: 2.3413 - 414ms/epoch - 5ms/step\n",
      "Epoch 29/150\n",
      "88/88 - 0s - loss: 7.7778 - dense_2_loss: 5.4400 - dense_3_loss: 2.3377 - 492ms/epoch - 6ms/step\n",
      "Epoch 30/150\n",
      "88/88 - 0s - loss: 7.7486 - dense_2_loss: 5.4173 - dense_3_loss: 2.3314 - 457ms/epoch - 5ms/step\n",
      "Epoch 31/150\n",
      "88/88 - 1s - loss: 7.6860 - dense_2_loss: 5.3585 - dense_3_loss: 2.3275 - 513ms/epoch - 6ms/step\n",
      "Epoch 32/150\n",
      "88/88 - 0s - loss: 7.6508 - dense_2_loss: 5.3276 - dense_3_loss: 2.3232 - 428ms/epoch - 5ms/step\n",
      "Epoch 33/150\n",
      "88/88 - 1s - loss: 7.5984 - dense_2_loss: 5.2801 - dense_3_loss: 2.3183 - 516ms/epoch - 6ms/step\n",
      "Epoch 34/150\n",
      "88/88 - 0s - loss: 7.5560 - dense_2_loss: 5.2396 - dense_3_loss: 2.3163 - 344ms/epoch - 4ms/step\n",
      "Epoch 35/150\n",
      "88/88 - 0s - loss: 7.5262 - dense_2_loss: 5.2144 - dense_3_loss: 2.3118 - 467ms/epoch - 5ms/step\n",
      "Epoch 36/150\n",
      "88/88 - 0s - loss: 7.5076 - dense_2_loss: 5.1983 - dense_3_loss: 2.3093 - 353ms/epoch - 4ms/step\n",
      "Epoch 37/150\n",
      "88/88 - 0s - loss: 7.5013 - dense_2_loss: 5.1953 - dense_3_loss: 2.3060 - 397ms/epoch - 5ms/step\n",
      "Epoch 38/150\n",
      "88/88 - 0s - loss: 7.4552 - dense_2_loss: 5.1512 - dense_3_loss: 2.3040 - 454ms/epoch - 5ms/step\n",
      "Epoch 39/150\n",
      "88/88 - 1s - loss: 7.4242 - dense_2_loss: 5.1249 - dense_3_loss: 2.2993 - 504ms/epoch - 6ms/step\n",
      "Epoch 40/150\n",
      "88/88 - 0s - loss: 7.4109 - dense_2_loss: 5.1139 - dense_3_loss: 2.2969 - 453ms/epoch - 5ms/step\n",
      "Epoch 41/150\n",
      "88/88 - 0s - loss: 7.4027 - dense_2_loss: 5.1069 - dense_3_loss: 2.2957 - 419ms/epoch - 5ms/step\n",
      "Epoch 42/150\n",
      "88/88 - 1s - loss: 7.3772 - dense_2_loss: 5.0852 - dense_3_loss: 2.2920 - 548ms/epoch - 6ms/step\n",
      "Epoch 43/150\n",
      "88/88 - 1s - loss: 7.3736 - dense_2_loss: 5.0853 - dense_3_loss: 2.2883 - 527ms/epoch - 6ms/step\n",
      "Epoch 44/150\n",
      "88/88 - 0s - loss: 7.3507 - dense_2_loss: 5.0643 - dense_3_loss: 2.2864 - 454ms/epoch - 5ms/step\n",
      "Epoch 45/150\n",
      "88/88 - 1s - loss: 7.3349 - dense_2_loss: 5.0508 - dense_3_loss: 2.2841 - 546ms/epoch - 6ms/step\n",
      "Epoch 46/150\n",
      "88/88 - 0s - loss: 7.3372 - dense_2_loss: 5.0564 - dense_3_loss: 2.2808 - 425ms/epoch - 5ms/step\n",
      "Epoch 47/150\n",
      "88/88 - 0s - loss: 7.3293 - dense_2_loss: 5.0517 - dense_3_loss: 2.2776 - 463ms/epoch - 5ms/step\n",
      "Epoch 48/150\n",
      "88/88 - 1s - loss: 7.3177 - dense_2_loss: 5.0433 - dense_3_loss: 2.2744 - 561ms/epoch - 6ms/step\n",
      "Epoch 49/150\n",
      "88/88 - 1s - loss: 7.3136 - dense_2_loss: 5.0416 - dense_3_loss: 2.2720 - 548ms/epoch - 6ms/step\n",
      "Epoch 50/150\n",
      "88/88 - 1s - loss: 7.3137 - dense_2_loss: 5.0455 - dense_3_loss: 2.2682 - 586ms/epoch - 7ms/step\n",
      "Epoch 51/150\n",
      "88/88 - 0s - loss: 7.3094 - dense_2_loss: 5.0428 - dense_3_loss: 2.2666 - 434ms/epoch - 5ms/step\n",
      "Epoch 52/150\n",
      "88/88 - 0s - loss: 7.2975 - dense_2_loss: 5.0334 - dense_3_loss: 2.2640 - 442ms/epoch - 5ms/step\n",
      "Epoch 53/150\n",
      "88/88 - 0s - loss: 7.3002 - dense_2_loss: 5.0409 - dense_3_loss: 2.2593 - 344ms/epoch - 4ms/step\n",
      "Epoch 54/150\n",
      "88/88 - 0s - loss: 7.2824 - dense_2_loss: 5.0239 - dense_3_loss: 2.2586 - 457ms/epoch - 5ms/step\n",
      "Epoch 55/150\n",
      "88/88 - 0s - loss: 7.2636 - dense_2_loss: 5.0082 - dense_3_loss: 2.2554 - 431ms/epoch - 5ms/step\n",
      "Epoch 56/150\n",
      "88/88 - 0s - loss: 7.2864 - dense_2_loss: 5.0340 - dense_3_loss: 2.2524 - 480ms/epoch - 5ms/step\n",
      "Epoch 57/150\n",
      "88/88 - 0s - loss: 7.2736 - dense_2_loss: 5.0246 - dense_3_loss: 2.2491 - 470ms/epoch - 5ms/step\n",
      "Epoch 58/150\n",
      "88/88 - 0s - loss: 7.2727 - dense_2_loss: 5.0250 - dense_3_loss: 2.2477 - 445ms/epoch - 5ms/step\n",
      "Epoch 59/150\n",
      "88/88 - 0s - loss: 7.2760 - dense_2_loss: 5.0281 - dense_3_loss: 2.2479 - 449ms/epoch - 5ms/step\n",
      "Epoch 60/150\n",
      "88/88 - 0s - loss: 7.2673 - dense_2_loss: 5.0248 - dense_3_loss: 2.2425 - 386ms/epoch - 4ms/step\n",
      "Epoch 61/150\n",
      "88/88 - 1s - loss: 7.2456 - dense_2_loss: 5.0049 - dense_3_loss: 2.2407 - 645ms/epoch - 7ms/step\n",
      "Epoch 62/150\n",
      "88/88 - 1s - loss: 7.2506 - dense_2_loss: 5.0120 - dense_3_loss: 2.2386 - 647ms/epoch - 7ms/step\n",
      "Epoch 63/150\n",
      "88/88 - 1s - loss: 7.2280 - dense_2_loss: 4.9943 - dense_3_loss: 2.2337 - 639ms/epoch - 7ms/step\n",
      "Epoch 64/150\n",
      "88/88 - 1s - loss: 7.2740 - dense_2_loss: 5.0393 - dense_3_loss: 2.2347 - 501ms/epoch - 6ms/step\n",
      "Epoch 65/150\n",
      "88/88 - 0s - loss: 7.2189 - dense_2_loss: 4.9897 - dense_3_loss: 2.2292 - 353ms/epoch - 4ms/step\n",
      "Epoch 66/150\n",
      "88/88 - 0s - loss: 7.2196 - dense_2_loss: 4.9908 - dense_3_loss: 2.2288 - 466ms/epoch - 5ms/step\n",
      "Epoch 67/150\n",
      "88/88 - 1s - loss: 7.2148 - dense_2_loss: 4.9881 - dense_3_loss: 2.2268 - 512ms/epoch - 6ms/step\n",
      "Epoch 68/150\n",
      "88/88 - 1s - loss: 7.2163 - dense_2_loss: 4.9927 - dense_3_loss: 2.2236 - 629ms/epoch - 7ms/step\n",
      "Epoch 69/150\n",
      "88/88 - 1s - loss: 7.2029 - dense_2_loss: 4.9825 - dense_3_loss: 2.2204 - 512ms/epoch - 6ms/step\n",
      "Epoch 70/150\n",
      "88/88 - 1s - loss: 7.2312 - dense_2_loss: 5.0125 - dense_3_loss: 2.2187 - 601ms/epoch - 7ms/step\n",
      "Epoch 71/150\n",
      "88/88 - 0s - loss: 7.2106 - dense_2_loss: 4.9945 - dense_3_loss: 2.2162 - 392ms/epoch - 4ms/step\n",
      "Epoch 72/150\n",
      "88/88 - 0s - loss: 7.2022 - dense_2_loss: 4.9881 - dense_3_loss: 2.2141 - 391ms/epoch - 4ms/step\n",
      "Epoch 73/150\n",
      "88/88 - 0s - loss: 7.1947 - dense_2_loss: 4.9825 - dense_3_loss: 2.2122 - 407ms/epoch - 5ms/step\n",
      "Epoch 74/150\n",
      "88/88 - 0s - loss: 7.1849 - dense_2_loss: 4.9739 - dense_3_loss: 2.2110 - 456ms/epoch - 5ms/step\n",
      "Epoch 75/150\n",
      "88/88 - 0s - loss: 7.1822 - dense_2_loss: 4.9744 - dense_3_loss: 2.2077 - 393ms/epoch - 4ms/step\n",
      "Epoch 76/150\n",
      "88/88 - 0s - loss: 7.2261 - dense_2_loss: 5.0211 - dense_3_loss: 2.2050 - 266ms/epoch - 3ms/step\n",
      "Epoch 77/150\n",
      "88/88 - 0s - loss: 7.2153 - dense_2_loss: 5.0120 - dense_3_loss: 2.2033 - 250ms/epoch - 3ms/step\n",
      "Epoch 78/150\n",
      "88/88 - 0s - loss: 7.1621 - dense_2_loss: 4.9610 - dense_3_loss: 2.2011 - 394ms/epoch - 4ms/step\n",
      "Epoch 79/150\n",
      "88/88 - 0s - loss: 7.1597 - dense_2_loss: 4.9615 - dense_3_loss: 2.1981 - 268ms/epoch - 3ms/step\n",
      "Epoch 80/150\n",
      "88/88 - 0s - loss: 7.1917 - dense_2_loss: 4.9935 - dense_3_loss: 2.1982 - 250ms/epoch - 3ms/step\n",
      "Epoch 81/150\n",
      "88/88 - 0s - loss: 7.1853 - dense_2_loss: 4.9891 - dense_3_loss: 2.1962 - 261ms/epoch - 3ms/step\n",
      "Epoch 82/150\n",
      "88/88 - 0s - loss: 7.1515 - dense_2_loss: 4.9561 - dense_3_loss: 2.1953 - 438ms/epoch - 5ms/step\n",
      "Epoch 83/150\n",
      "88/88 - 0s - loss: 7.2047 - dense_2_loss: 5.0130 - dense_3_loss: 2.1917 - 300ms/epoch - 3ms/step\n",
      "Epoch 84/150\n",
      "88/88 - 0s - loss: 7.1415 - dense_2_loss: 4.9510 - dense_3_loss: 2.1906 - 310ms/epoch - 4ms/step\n",
      "Epoch 85/150\n",
      "88/88 - 0s - loss: 7.1341 - dense_2_loss: 4.9467 - dense_3_loss: 2.1873 - 257ms/epoch - 3ms/step\n",
      "Epoch 86/150\n",
      "88/88 - 0s - loss: 7.1569 - dense_2_loss: 4.9708 - dense_3_loss: 2.1861 - 335ms/epoch - 4ms/step\n",
      "Epoch 87/150\n",
      "88/88 - 0s - loss: 7.1610 - dense_2_loss: 4.9763 - dense_3_loss: 2.1847 - 266ms/epoch - 3ms/step\n",
      "Epoch 88/150\n",
      "88/88 - 0s - loss: 7.1187 - dense_2_loss: 4.9344 - dense_3_loss: 2.1843 - 244ms/epoch - 3ms/step\n",
      "Epoch 89/150\n",
      "88/88 - 0s - loss: 7.1130 - dense_2_loss: 4.9321 - dense_3_loss: 2.1809 - 277ms/epoch - 3ms/step\n",
      "Epoch 90/150\n",
      "88/88 - 0s - loss: 7.1299 - dense_2_loss: 4.9500 - dense_3_loss: 2.1799 - 231ms/epoch - 3ms/step\n",
      "Epoch 91/150\n",
      "88/88 - 0s - loss: 7.1132 - dense_2_loss: 4.9351 - dense_3_loss: 2.1781 - 383ms/epoch - 4ms/step\n",
      "Epoch 92/150\n",
      "88/88 - 0s - loss: 7.1172 - dense_2_loss: 4.9410 - dense_3_loss: 2.1761 - 358ms/epoch - 4ms/step\n",
      "Epoch 93/150\n",
      "88/88 - 0s - loss: 7.1070 - dense_2_loss: 4.9329 - dense_3_loss: 2.1741 - 281ms/epoch - 3ms/step\n",
      "Epoch 94/150\n",
      "88/88 - 0s - loss: 7.1039 - dense_2_loss: 4.9313 - dense_3_loss: 2.1726 - 326ms/epoch - 4ms/step\n",
      "Epoch 95/150\n",
      "88/88 - 0s - loss: 7.0862 - dense_2_loss: 4.9165 - dense_3_loss: 2.1697 - 143ms/epoch - 2ms/step\n",
      "Epoch 96/150\n",
      "88/88 - 0s - loss: 7.1090 - dense_2_loss: 4.9418 - dense_3_loss: 2.1672 - 133ms/epoch - 2ms/step\n",
      "Epoch 97/150\n",
      "88/88 - 0s - loss: 7.1105 - dense_2_loss: 4.9447 - dense_3_loss: 2.1659 - 133ms/epoch - 2ms/step\n",
      "Epoch 98/150\n",
      "88/88 - 0s - loss: 7.1203 - dense_2_loss: 4.9566 - dense_3_loss: 2.1637 - 135ms/epoch - 2ms/step\n",
      "Epoch 99/150\n",
      "88/88 - 0s - loss: 7.0710 - dense_2_loss: 4.9089 - dense_3_loss: 2.1621 - 138ms/epoch - 2ms/step\n",
      "Epoch 100/150\n",
      "88/88 - 0s - loss: 7.0858 - dense_2_loss: 4.9257 - dense_3_loss: 2.1601 - 137ms/epoch - 2ms/step\n",
      "Epoch 101/150\n",
      "88/88 - 0s - loss: 7.0951 - dense_2_loss: 4.9358 - dense_3_loss: 2.1593 - 157ms/epoch - 2ms/step\n",
      "Epoch 102/150\n",
      "88/88 - 0s - loss: 7.0757 - dense_2_loss: 4.9174 - dense_3_loss: 2.1583 - 149ms/epoch - 2ms/step\n",
      "Epoch 103/150\n",
      "88/88 - 0s - loss: 7.0702 - dense_2_loss: 4.9141 - dense_3_loss: 2.1561 - 135ms/epoch - 2ms/step\n",
      "Epoch 104/150\n",
      "88/88 - 0s - loss: 7.0931 - dense_2_loss: 4.9404 - dense_3_loss: 2.1526 - 135ms/epoch - 2ms/step\n",
      "Epoch 105/150\n",
      "88/88 - 0s - loss: 7.0754 - dense_2_loss: 4.9231 - dense_3_loss: 2.1523 - 143ms/epoch - 2ms/step\n",
      "Epoch 106/150\n",
      "88/88 - 0s - loss: 7.0830 - dense_2_loss: 4.9332 - dense_3_loss: 2.1497 - 134ms/epoch - 2ms/step\n",
      "Epoch 107/150\n",
      "88/88 - 0s - loss: 7.0598 - dense_2_loss: 4.9111 - dense_3_loss: 2.1488 - 140ms/epoch - 2ms/step\n",
      "Epoch 108/150\n",
      "88/88 - 0s - loss: 7.0795 - dense_2_loss: 4.9324 - dense_3_loss: 2.1471 - 150ms/epoch - 2ms/step\n",
      "Epoch 109/150\n",
      "88/88 - 0s - loss: 7.0485 - dense_2_loss: 4.9035 - dense_3_loss: 2.1450 - 151ms/epoch - 2ms/step\n",
      "Epoch 110/150\n",
      "88/88 - 0s - loss: 7.0577 - dense_2_loss: 4.9148 - dense_3_loss: 2.1429 - 146ms/epoch - 2ms/step\n",
      "Epoch 111/150\n",
      "88/88 - 0s - loss: 7.0540 - dense_2_loss: 4.9125 - dense_3_loss: 2.1415 - 155ms/epoch - 2ms/step\n",
      "Epoch 112/150\n",
      "88/88 - 0s - loss: 7.0622 - dense_2_loss: 4.9234 - dense_3_loss: 2.1388 - 149ms/epoch - 2ms/step\n",
      "Epoch 113/150\n",
      "88/88 - 0s - loss: 7.0379 - dense_2_loss: 4.8982 - dense_3_loss: 2.1397 - 138ms/epoch - 2ms/step\n",
      "Epoch 114/150\n",
      "88/88 - 0s - loss: 7.0367 - dense_2_loss: 4.8993 - dense_3_loss: 2.1374 - 171ms/epoch - 2ms/step\n",
      "Epoch 115/150\n",
      "88/88 - 0s - loss: 7.0371 - dense_2_loss: 4.9027 - dense_3_loss: 2.1344 - 166ms/epoch - 2ms/step\n",
      "Epoch 116/150\n",
      "88/88 - 0s - loss: 7.0656 - dense_2_loss: 4.9300 - dense_3_loss: 2.1357 - 145ms/epoch - 2ms/step\n",
      "Epoch 117/150\n",
      "88/88 - 0s - loss: 7.0412 - dense_2_loss: 4.9110 - dense_3_loss: 2.1302 - 142ms/epoch - 2ms/step\n",
      "Epoch 118/150\n",
      "88/88 - 0s - loss: 7.0301 - dense_2_loss: 4.9002 - dense_3_loss: 2.1299 - 145ms/epoch - 2ms/step\n",
      "Epoch 119/150\n",
      "88/88 - 0s - loss: 7.0131 - dense_2_loss: 4.8859 - dense_3_loss: 2.1273 - 148ms/epoch - 2ms/step\n",
      "Epoch 120/150\n",
      "88/88 - 0s - loss: 7.0192 - dense_2_loss: 4.8932 - dense_3_loss: 2.1260 - 146ms/epoch - 2ms/step\n",
      "Epoch 121/150\n",
      "88/88 - 0s - loss: 7.0285 - dense_2_loss: 4.9036 - dense_3_loss: 2.1249 - 159ms/epoch - 2ms/step\n",
      "Epoch 122/150\n",
      "88/88 - 0s - loss: 7.0097 - dense_2_loss: 4.8878 - dense_3_loss: 2.1220 - 144ms/epoch - 2ms/step\n",
      "Epoch 123/150\n",
      "88/88 - 0s - loss: 7.0111 - dense_2_loss: 4.8917 - dense_3_loss: 2.1195 - 138ms/epoch - 2ms/step\n",
      "Epoch 124/150\n",
      "88/88 - 0s - loss: 7.0537 - dense_2_loss: 4.9343 - dense_3_loss: 2.1194 - 137ms/epoch - 2ms/step\n",
      "Epoch 125/150\n",
      "88/88 - 0s - loss: 7.0278 - dense_2_loss: 4.9111 - dense_3_loss: 2.1167 - 142ms/epoch - 2ms/step\n",
      "Epoch 126/150\n",
      "88/88 - 0s - loss: 7.0193 - dense_2_loss: 4.9046 - dense_3_loss: 2.1148 - 136ms/epoch - 2ms/step\n",
      "Epoch 127/150\n",
      "88/88 - 0s - loss: 7.0078 - dense_2_loss: 4.8935 - dense_3_loss: 2.1143 - 152ms/epoch - 2ms/step\n",
      "Epoch 128/150\n",
      "88/88 - 0s - loss: 7.0100 - dense_2_loss: 4.8982 - dense_3_loss: 2.1118 - 167ms/epoch - 2ms/step\n",
      "Epoch 129/150\n",
      "88/88 - 0s - loss: 7.0015 - dense_2_loss: 4.8890 - dense_3_loss: 2.1126 - 135ms/epoch - 2ms/step\n",
      "Epoch 130/150\n",
      "88/88 - 0s - loss: 6.9993 - dense_2_loss: 4.8897 - dense_3_loss: 2.1096 - 139ms/epoch - 2ms/step\n",
      "Epoch 131/150\n",
      "88/88 - 0s - loss: 6.9622 - dense_2_loss: 4.8521 - dense_3_loss: 2.1101 - 141ms/epoch - 2ms/step\n",
      "Epoch 132/150\n",
      "88/88 - 0s - loss: 6.9954 - dense_2_loss: 4.8882 - dense_3_loss: 2.1072 - 146ms/epoch - 2ms/step\n",
      "Epoch 133/150\n",
      "88/88 - 0s - loss: 6.9637 - dense_2_loss: 4.8592 - dense_3_loss: 2.1045 - 138ms/epoch - 2ms/step\n",
      "Epoch 134/150\n",
      "88/88 - 0s - loss: 7.0290 - dense_2_loss: 4.9233 - dense_3_loss: 2.1057 - 138ms/epoch - 2ms/step\n",
      "Epoch 135/150\n",
      "88/88 - 0s - loss: 7.0060 - dense_2_loss: 4.9036 - dense_3_loss: 2.1023 - 160ms/epoch - 2ms/step\n",
      "Epoch 136/150\n",
      "88/88 - 0s - loss: 6.9625 - dense_2_loss: 4.8620 - dense_3_loss: 2.1005 - 138ms/epoch - 2ms/step\n",
      "Epoch 137/150\n",
      "88/88 - 0s - loss: 6.9869 - dense_2_loss: 4.8881 - dense_3_loss: 2.0987 - 142ms/epoch - 2ms/step\n",
      "Epoch 138/150\n",
      "88/88 - 0s - loss: 6.9638 - dense_2_loss: 4.8664 - dense_3_loss: 2.0974 - 140ms/epoch - 2ms/step\n",
      "Epoch 139/150\n",
      "88/88 - 0s - loss: 6.9727 - dense_2_loss: 4.8769 - dense_3_loss: 2.0958 - 144ms/epoch - 2ms/step\n",
      "Epoch 140/150\n",
      "88/88 - 0s - loss: 6.9836 - dense_2_loss: 4.8894 - dense_3_loss: 2.0942 - 154ms/epoch - 2ms/step\n",
      "Epoch 141/150\n",
      "88/88 - 0s - loss: 6.9788 - dense_2_loss: 4.8870 - dense_3_loss: 2.0918 - 147ms/epoch - 2ms/step\n",
      "Epoch 142/150\n",
      "88/88 - 0s - loss: 6.9464 - dense_2_loss: 4.8567 - dense_3_loss: 2.0897 - 152ms/epoch - 2ms/step\n",
      "Epoch 143/150\n",
      "88/88 - 0s - loss: 6.9593 - dense_2_loss: 4.8697 - dense_3_loss: 2.0896 - 147ms/epoch - 2ms/step\n",
      "Epoch 144/150\n",
      "88/88 - 0s - loss: 6.9609 - dense_2_loss: 4.8731 - dense_3_loss: 2.0878 - 137ms/epoch - 2ms/step\n",
      "Epoch 145/150\n",
      "88/88 - 0s - loss: 6.9775 - dense_2_loss: 4.8913 - dense_3_loss: 2.0861 - 153ms/epoch - 2ms/step\n",
      "Epoch 146/150\n",
      "88/88 - 0s - loss: 6.9758 - dense_2_loss: 4.8915 - dense_3_loss: 2.0843 - 133ms/epoch - 2ms/step\n",
      "Epoch 147/150\n",
      "88/88 - 0s - loss: 6.9543 - dense_2_loss: 4.8712 - dense_3_loss: 2.0831 - 142ms/epoch - 2ms/step\n",
      "Epoch 148/150\n",
      "88/88 - 0s - loss: 6.9473 - dense_2_loss: 4.8660 - dense_3_loss: 2.0813 - 149ms/epoch - 2ms/step\n",
      "Epoch 149/150\n",
      "88/88 - 0s - loss: 6.9372 - dense_2_loss: 4.8569 - dense_3_loss: 2.0802 - 151ms/epoch - 2ms/step\n",
      "Epoch 150/150\n",
      "88/88 - 0s - loss: 6.9689 - dense_2_loss: 4.8905 - dense_3_loss: 2.0783 - 149ms/epoch - 2ms/step\n"
     ]
    },
    {
     "data": {
      "text/plain": [
       "<keras.callbacks.History at 0x7f5f4e96be90>"
      ]
     },
     "execution_count": 9,
     "metadata": {},
     "output_type": "execute_result"
    }
   ],
   "source": [
    "# define model\n",
    "model = Model(inputs=visible, outputs=[out_reg, out_clas])\n",
    "# compile the keras model\n",
    "model.compile(loss=['mse','sparse_categorical_crossentropy'], optimizer='adam')\n",
    "# plot graph of model\n",
    "plot_model(model, to_file='model.png', show_shapes=True)\n",
    "# fit the keras model on the dataset\n",
    "model.fit(X_train, [y_train,y_train_class], epochs=150, batch_size=32, verbose=2)"
   ]
  },
  {
   "cell_type": "markdown",
   "metadata": {
    "id": "gdG-S8Tb43Cy"
   },
   "source": [
    "### Make Prediction"
   ]
  },
  {
   "cell_type": "code",
   "execution_count": 10,
   "metadata": {
    "id": "EnipBAz-2N41"
   },
   "outputs": [],
   "source": [
    "# make predictions on test set\n",
    "yhat1, yhat2 = model.predict(X_test)"
   ]
  },
  {
   "cell_type": "markdown",
   "metadata": {
    "id": "NN2Q6x7H46X8"
   },
   "source": [
    "### Evaluate Model from MAE and Accuracy"
   ]
  },
  {
   "cell_type": "code",
   "execution_count": 11,
   "metadata": {
    "colab": {
     "base_uri": "https://localhost:8080/"
    },
    "id": "GLxYE22c2O1W",
    "outputId": "eee50da7-2031-441c-b05f-f215760f6835"
   },
   "outputs": [
    {
     "name": "stdout",
     "output_type": "stream",
     "text": [
      "MAE: 1.613\n"
     ]
    }
   ],
   "source": [
    "# calculate error for regression model\n",
    "error = mean_absolute_error(y_test, yhat1)\n",
    "print('MAE: %.3f' % error)"
   ]
  },
  {
   "cell_type": "code",
   "execution_count": 12,
   "metadata": {
    "colab": {
     "base_uri": "https://localhost:8080/"
    },
    "id": "vJHDIA8p2Tm-",
    "outputId": "7e9a7ede-2479-4845-8340-60231efed661"
   },
   "outputs": [
    {
     "name": "stdout",
     "output_type": "stream",
     "text": [
      "Accuracy: 0.241\n"
     ]
    }
   ],
   "source": [
    "# evaluate accuracy for classification model\n",
    "yhat2 = argmax(yhat2, axis=-1).astype('int')\n",
    "acc = accuracy_score(y_test_class, yhat2)\n",
    "print('Accuracy: %.3f' % acc)"
   ]
  },
  {
   "cell_type": "markdown",
   "metadata": {
    "id": "4i2zdZ7f4_XG"
   },
   "source": [
    "### Plot Final Architecture"
   ]
  },
  {
   "cell_type": "code",
   "execution_count": 13,
   "metadata": {
    "colab": {
     "base_uri": "https://localhost:8080/",
     "height": 422
    },
    "id": "ai2y_NhI4Ooc",
    "outputId": "3d731341-17f1-4ec4-d77c-f68c59040149"
   },
   "outputs": [
    {
     "data": {
      "image/png": "[encoded data removed]",
      "text/plain": [
       "<IPython.core.display.Image object>"
      ]
     },
     "execution_count": 13,
     "metadata": {},
     "output_type": "execute_result"
    }
   ],
   "source": [
    "from IPython.display import Image\n",
    "plot_model(model, to_file='regressionVSclassification.png', show_shapes=True,show_layer_names=True)\n",
    "Image(filename='regressionVSclassification.png')"
   ]
  }
 ],
 "metadata": {
  "colab": {
   "collapsed_sections": [],
   "name": "Nomor2_ANNRegression&Classification_UAS_CI2.ipynb",
   "provenance": []
  },
  "kernelspec": {
   "display_name": "Python 3",
   "language": "python",
   "name": "python3"
  },
  "language_info": {
   "codemirror_mode": {
    "name": "ipython",
    "version": 3
   },
   "file_extension": ".py",
   "mimetype": "text/x-python",
   "name": "python",
   "nbconvert_exporter": "python",
   "pygments_lexer": "ipython3",
   "version": "3.7.6"
  }
 },
 "nbformat": 4,
 "nbformat_minor": 1
}
