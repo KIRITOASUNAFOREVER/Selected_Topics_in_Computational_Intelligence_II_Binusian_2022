{
 "cells": [
  {
   "cell_type": "markdown",
   "metadata": {
    "id": "uybwTpI969Sb"
   },
   "source": [
    "### NIM         : 2201741971 / 2401822232\n",
    "### Name        : Edward\n",
    "### Class       : LTY2\n",
    "### Course      : Selected Topics in Computational Intelligence II\n",
    "### Course Code : COMP8039041\n",
    "### Source : https://github.com/Amirhossein-Rajabpour/Fuzzy-C-Means-Clustering/blob/main/CI_Project2.ipynb"
   ]
  },
  {
   "cell_type": "markdown",
   "metadata": {
    "id": "-VTTy50_t3mK"
   },
   "source": [
    "### Importing the required libraries"
   ]
  },
  {
   "cell_type": "code",
   "execution_count": 1,
   "metadata": {
    "id": "rHW8ZfFlr0Yw"
   },
   "outputs": [],
   "source": [
    "### Importing the required Libraries\n",
    "import pandas as pd\n",
    "import numpy as np\n",
    "import random\n",
    "import operator\n",
    "import math\n",
    "import matplotlib.pyplot as plt\n",
    "import sys"
   ]
  },
  {
   "cell_type": "markdown",
   "metadata": {
    "id": "m3Rlnk1r7QKe"
   },
   "source": [
    "### Read the Dataset"
   ]
  },
  {
   "cell_type": "code",
   "execution_count": 2,
   "metadata": {
    "id": "wGi6XrW6twe-"
   },
   "outputs": [],
   "source": [
    "### reading the input csv file \n",
    "qcm3 = pd.read_csv('QCM3.csv', sep = ';')\n",
    "qcm6 = pd.read_csv('QCM6.csv', sep = ';')\n",
    "qcm7 = pd.read_csv('QCM7.csv', sep = ';')\n",
    "qcm10 = pd.read_csv('QCM10.csv', sep = ';')\n",
    "qcm12 = pd.read_csv('QCM12.csv', sep = ';')"
   ]
  },
  {
   "cell_type": "code",
   "execution_count": 3,
   "metadata": {
    "colab": {
     "base_uri": "https://localhost:8080/"
    },
    "id": "1hYBCZbhyXmj",
    "outputId": "dfe9e801-c73a-43a1-ac50-67629703ea54"
   },
   "outputs": [
    {
     "name": "stdout",
     "output_type": "stream",
     "text": [
      "Shape of qcm3:  (25, 15)\n",
      "Shape of qcm6:  (25, 15)\n",
      "Shape of qcm7:  (25, 15)\n",
      "Shape of qcm10:  (25, 15)\n",
      "Shape of qcm12:  (25, 15)\n"
     ]
    }
   ],
   "source": [
    "print(\"Shape of qcm3: \", qcm3.shape)\n",
    "print(\"Shape of qcm6: \", qcm6.shape)\n",
    "print(\"Shape of qcm7: \", qcm7.shape)\n",
    "print(\"Shape of qcm10: \", qcm10.shape)\n",
    "print(\"Shape of qcm12: \", qcm12.shape)"
   ]
  },
  {
   "cell_type": "markdown",
   "metadata": {},
   "source": [
    "### Combine Dataset"
   ]
  },
  {
   "cell_type": "code",
   "execution_count": 4,
   "metadata": {
    "colab": {
     "base_uri": "https://localhost:8080/"
    },
    "id": "P6Y_b43lFUeT",
    "outputId": "c49f7d3e-5444-4c2a-e7ff-c91422f86bd3"
   },
   "outputs": [
    {
     "name": "stdout",
     "output_type": "stream",
     "text": [
      "Shape of dataset:  (125, 15)\n"
     ]
    }
   ],
   "source": [
    "dataset = pd.concat([qcm3, qcm6, qcm7, qcm10, qcm12])\n",
    "print(\"Shape of dataset: \", dataset.shape)"
   ]
  },
  {
   "cell_type": "code",
   "execution_count": 5,
   "metadata": {
    "colab": {
     "base_uri": "https://localhost:8080/",
     "height": 287
    },
    "id": "wuGG1hmqFW_M",
    "outputId": "06ae3d67-e42b-4704-edc6-a1694471b3c3"
   },
   "outputs": [
    {
     "data": {
      "text/html": [
       "<div>\n",
       "<style scoped>\n",
       "    .dataframe tbody tr th:only-of-type {\n",
       "        vertical-align: middle;\n",
       "    }\n",
       "\n",
       "    .dataframe tbody tr th {\n",
       "        vertical-align: top;\n",
       "    }\n",
       "\n",
       "    .dataframe thead th {\n",
       "        text-align: right;\n",
       "    }\n",
       "</style>\n",
       "<table border=\"1\" class=\"dataframe\">\n",
       "  <thead>\n",
       "    <tr style=\"text-align: right;\">\n",
       "      <th></th>\n",
       "      <th>0.799_0.201</th>\n",
       "      <th>0.799_0.201.1</th>\n",
       "      <th>0.700_0.300</th>\n",
       "      <th>0.700_0.300.1</th>\n",
       "      <th>0.600_0.400</th>\n",
       "      <th>0.600_0.400.1</th>\n",
       "      <th>0.501_0.499</th>\n",
       "      <th>0.501_0.499.1</th>\n",
       "      <th>0.400_0.600</th>\n",
       "      <th>0.400_0.600.1</th>\n",
       "      <th>1-Octanol</th>\n",
       "      <th>1-Propanol</th>\n",
       "      <th>2-Butanol</th>\n",
       "      <th>2-propanol</th>\n",
       "      <th>1-isobutanol</th>\n",
       "    </tr>\n",
       "  </thead>\n",
       "  <tbody>\n",
       "    <tr>\n",
       "      <th>0</th>\n",
       "      <td>-10.06</td>\n",
       "      <td>-10.62</td>\n",
       "      <td>-14.43</td>\n",
       "      <td>-18.31</td>\n",
       "      <td>-24.64</td>\n",
       "      <td>-30.56</td>\n",
       "      <td>-38.62</td>\n",
       "      <td>-45.59</td>\n",
       "      <td>-54.89</td>\n",
       "      <td>-62.28</td>\n",
       "      <td>1</td>\n",
       "      <td>0</td>\n",
       "      <td>0</td>\n",
       "      <td>0</td>\n",
       "      <td>0</td>\n",
       "    </tr>\n",
       "    <tr>\n",
       "      <th>1</th>\n",
       "      <td>-9.69</td>\n",
       "      <td>-10.86</td>\n",
       "      <td>-16.73</td>\n",
       "      <td>-21.75</td>\n",
       "      <td>-28.47</td>\n",
       "      <td>-35.83</td>\n",
       "      <td>-43.65</td>\n",
       "      <td>-52.43</td>\n",
       "      <td>-61.92</td>\n",
       "      <td>-71.27</td>\n",
       "      <td>1</td>\n",
       "      <td>0</td>\n",
       "      <td>0</td>\n",
       "      <td>0</td>\n",
       "      <td>0</td>\n",
       "    </tr>\n",
       "    <tr>\n",
       "      <th>2</th>\n",
       "      <td>-12.07</td>\n",
       "      <td>-14.28</td>\n",
       "      <td>-21.54</td>\n",
       "      <td>-27.92</td>\n",
       "      <td>-35.19</td>\n",
       "      <td>-43.94</td>\n",
       "      <td>-52.04</td>\n",
       "      <td>-62.49</td>\n",
       "      <td>-71.97</td>\n",
       "      <td>-83.10</td>\n",
       "      <td>1</td>\n",
       "      <td>0</td>\n",
       "      <td>0</td>\n",
       "      <td>0</td>\n",
       "      <td>0</td>\n",
       "    </tr>\n",
       "    <tr>\n",
       "      <th>3</th>\n",
       "      <td>-14.21</td>\n",
       "      <td>-17.41</td>\n",
       "      <td>-25.91</td>\n",
       "      <td>-33.36</td>\n",
       "      <td>-41.29</td>\n",
       "      <td>-51.27</td>\n",
       "      <td>-59.94</td>\n",
       "      <td>-71.55</td>\n",
       "      <td>-81.51</td>\n",
       "      <td>-93.83</td>\n",
       "      <td>1</td>\n",
       "      <td>0</td>\n",
       "      <td>0</td>\n",
       "      <td>0</td>\n",
       "      <td>0</td>\n",
       "    </tr>\n",
       "    <tr>\n",
       "      <th>4</th>\n",
       "      <td>-16.57</td>\n",
       "      <td>-20.35</td>\n",
       "      <td>-29.97</td>\n",
       "      <td>-37.84</td>\n",
       "      <td>-47.03</td>\n",
       "      <td>-57.29</td>\n",
       "      <td>-67.13</td>\n",
       "      <td>-78.96</td>\n",
       "      <td>-90.01</td>\n",
       "      <td>-102.65</td>\n",
       "      <td>1</td>\n",
       "      <td>0</td>\n",
       "      <td>0</td>\n",
       "      <td>0</td>\n",
       "      <td>0</td>\n",
       "    </tr>\n",
       "  </tbody>\n",
       "</table>\n",
       "</div>"
      ],
      "text/plain": [
       "   0.799_0.201  0.799_0.201.1  0.700_0.300  0.700_0.300.1  0.600_0.400  \\\n",
       "0       -10.06         -10.62       -14.43         -18.31       -24.64   \n",
       "1        -9.69         -10.86       -16.73         -21.75       -28.47   \n",
       "2       -12.07         -14.28       -21.54         -27.92       -35.19   \n",
       "3       -14.21         -17.41       -25.91         -33.36       -41.29   \n",
       "4       -16.57         -20.35       -29.97         -37.84       -47.03   \n",
       "\n",
       "   0.600_0.400.1  0.501_0.499  0.501_0.499.1  0.400_0.600  0.400_0.600.1  \\\n",
       "0         -30.56       -38.62         -45.59       -54.89         -62.28   \n",
       "1         -35.83       -43.65         -52.43       -61.92         -71.27   \n",
       "2         -43.94       -52.04         -62.49       -71.97         -83.10   \n",
       "3         -51.27       -59.94         -71.55       -81.51         -93.83   \n",
       "4         -57.29       -67.13         -78.96       -90.01        -102.65   \n",
       "\n",
       "   1-Octanol  1-Propanol  2-Butanol  2-propanol  1-isobutanol  \n",
       "0          1           0          0           0             0  \n",
       "1          1           0          0           0             0  \n",
       "2          1           0          0           0             0  \n",
       "3          1           0          0           0             0  \n",
       "4          1           0          0           0             0  "
      ]
     },
     "execution_count": 5,
     "metadata": {},
     "output_type": "execute_result"
    }
   ],
   "source": [
    "dataset.head()"
   ]
  },
  {
   "cell_type": "markdown",
   "metadata": {},
   "source": [
    "### Drop Unused Column"
   ]
  },
  {
   "cell_type": "code",
   "execution_count": 6,
   "metadata": {
    "id": "CBF76BrUQDka"
   },
   "outputs": [],
   "source": [
    "dataset.drop('1-Octanol', axis = 1, inplace = True)\n",
    "dataset.drop('1-Propanol', axis = 1, inplace = True)\n",
    "dataset.drop('2-Butanol', axis = 1, inplace = True)\n",
    "dataset.drop('2-propanol', axis = 1, inplace = True)\n",
    "dataset.drop('1-isobutanol', axis = 1, inplace = True)"
   ]
  },
  {
   "cell_type": "code",
   "execution_count": 7,
   "metadata": {
    "colab": {
     "base_uri": "https://localhost:8080/",
     "height": 206
    },
    "id": "Iji8zQe_Reiy",
    "outputId": "e121ded6-47fa-453d-ecb5-75589c97f3e6"
   },
   "outputs": [
    {
     "data": {
      "text/html": [
       "<div>\n",
       "<style scoped>\n",
       "    .dataframe tbody tr th:only-of-type {\n",
       "        vertical-align: middle;\n",
       "    }\n",
       "\n",
       "    .dataframe tbody tr th {\n",
       "        vertical-align: top;\n",
       "    }\n",
       "\n",
       "    .dataframe thead th {\n",
       "        text-align: right;\n",
       "    }\n",
       "</style>\n",
       "<table border=\"1\" class=\"dataframe\">\n",
       "  <thead>\n",
       "    <tr style=\"text-align: right;\">\n",
       "      <th></th>\n",
       "      <th>0.799_0.201</th>\n",
       "      <th>0.799_0.201.1</th>\n",
       "      <th>0.700_0.300</th>\n",
       "      <th>0.700_0.300.1</th>\n",
       "      <th>0.600_0.400</th>\n",
       "      <th>0.600_0.400.1</th>\n",
       "      <th>0.501_0.499</th>\n",
       "      <th>0.501_0.499.1</th>\n",
       "      <th>0.400_0.600</th>\n",
       "      <th>0.400_0.600.1</th>\n",
       "    </tr>\n",
       "  </thead>\n",
       "  <tbody>\n",
       "    <tr>\n",
       "      <th>0</th>\n",
       "      <td>-10.06</td>\n",
       "      <td>-10.62</td>\n",
       "      <td>-14.43</td>\n",
       "      <td>-18.31</td>\n",
       "      <td>-24.64</td>\n",
       "      <td>-30.56</td>\n",
       "      <td>-38.62</td>\n",
       "      <td>-45.59</td>\n",
       "      <td>-54.89</td>\n",
       "      <td>-62.28</td>\n",
       "    </tr>\n",
       "    <tr>\n",
       "      <th>1</th>\n",
       "      <td>-9.69</td>\n",
       "      <td>-10.86</td>\n",
       "      <td>-16.73</td>\n",
       "      <td>-21.75</td>\n",
       "      <td>-28.47</td>\n",
       "      <td>-35.83</td>\n",
       "      <td>-43.65</td>\n",
       "      <td>-52.43</td>\n",
       "      <td>-61.92</td>\n",
       "      <td>-71.27</td>\n",
       "    </tr>\n",
       "    <tr>\n",
       "      <th>2</th>\n",
       "      <td>-12.07</td>\n",
       "      <td>-14.28</td>\n",
       "      <td>-21.54</td>\n",
       "      <td>-27.92</td>\n",
       "      <td>-35.19</td>\n",
       "      <td>-43.94</td>\n",
       "      <td>-52.04</td>\n",
       "      <td>-62.49</td>\n",
       "      <td>-71.97</td>\n",
       "      <td>-83.10</td>\n",
       "    </tr>\n",
       "    <tr>\n",
       "      <th>3</th>\n",
       "      <td>-14.21</td>\n",
       "      <td>-17.41</td>\n",
       "      <td>-25.91</td>\n",
       "      <td>-33.36</td>\n",
       "      <td>-41.29</td>\n",
       "      <td>-51.27</td>\n",
       "      <td>-59.94</td>\n",
       "      <td>-71.55</td>\n",
       "      <td>-81.51</td>\n",
       "      <td>-93.83</td>\n",
       "    </tr>\n",
       "    <tr>\n",
       "      <th>4</th>\n",
       "      <td>-16.57</td>\n",
       "      <td>-20.35</td>\n",
       "      <td>-29.97</td>\n",
       "      <td>-37.84</td>\n",
       "      <td>-47.03</td>\n",
       "      <td>-57.29</td>\n",
       "      <td>-67.13</td>\n",
       "      <td>-78.96</td>\n",
       "      <td>-90.01</td>\n",
       "      <td>-102.65</td>\n",
       "    </tr>\n",
       "  </tbody>\n",
       "</table>\n",
       "</div>"
      ],
      "text/plain": [
       "   0.799_0.201  0.799_0.201.1  0.700_0.300  0.700_0.300.1  0.600_0.400  \\\n",
       "0       -10.06         -10.62       -14.43         -18.31       -24.64   \n",
       "1        -9.69         -10.86       -16.73         -21.75       -28.47   \n",
       "2       -12.07         -14.28       -21.54         -27.92       -35.19   \n",
       "3       -14.21         -17.41       -25.91         -33.36       -41.29   \n",
       "4       -16.57         -20.35       -29.97         -37.84       -47.03   \n",
       "\n",
       "   0.600_0.400.1  0.501_0.499  0.501_0.499.1  0.400_0.600  0.400_0.600.1  \n",
       "0         -30.56       -38.62         -45.59       -54.89         -62.28  \n",
       "1         -35.83       -43.65         -52.43       -61.92         -71.27  \n",
       "2         -43.94       -52.04         -62.49       -71.97         -83.10  \n",
       "3         -51.27       -59.94         -71.55       -81.51         -93.83  \n",
       "4         -57.29       -67.13         -78.96       -90.01        -102.65  "
      ]
     },
     "execution_count": 7,
     "metadata": {},
     "output_type": "execute_result"
    }
   ],
   "source": [
    "dataset.head()"
   ]
  },
  {
   "cell_type": "markdown",
   "metadata": {},
   "source": [
    "### Change Header into Index"
   ]
  },
  {
   "cell_type": "code",
   "execution_count": 8,
   "metadata": {
    "id": "PIByqAGtRfOk"
   },
   "outputs": [],
   "source": [
    "dataset.columns = range(dataset.shape[1])"
   ]
  },
  {
   "cell_type": "code",
   "execution_count": 9,
   "metadata": {
    "colab": {
     "base_uri": "https://localhost:8080/",
     "height": 423
    },
    "id": "Cwx8idZjRu3d",
    "outputId": "d86d7e3c-0497-47c1-d51d-a97e08c9668f"
   },
   "outputs": [
    {
     "data": {
      "text/html": [
       "<div>\n",
       "<style scoped>\n",
       "    .dataframe tbody tr th:only-of-type {\n",
       "        vertical-align: middle;\n",
       "    }\n",
       "\n",
       "    .dataframe tbody tr th {\n",
       "        vertical-align: top;\n",
       "    }\n",
       "\n",
       "    .dataframe thead th {\n",
       "        text-align: right;\n",
       "    }\n",
       "</style>\n",
       "<table border=\"1\" class=\"dataframe\">\n",
       "  <thead>\n",
       "    <tr style=\"text-align: right;\">\n",
       "      <th></th>\n",
       "      <th>0</th>\n",
       "      <th>1</th>\n",
       "      <th>2</th>\n",
       "      <th>3</th>\n",
       "      <th>4</th>\n",
       "      <th>5</th>\n",
       "      <th>6</th>\n",
       "      <th>7</th>\n",
       "      <th>8</th>\n",
       "      <th>9</th>\n",
       "    </tr>\n",
       "  </thead>\n",
       "  <tbody>\n",
       "    <tr>\n",
       "      <th>0</th>\n",
       "      <td>-10.06</td>\n",
       "      <td>-10.62</td>\n",
       "      <td>-14.43</td>\n",
       "      <td>-18.31</td>\n",
       "      <td>-24.64</td>\n",
       "      <td>-30.56</td>\n",
       "      <td>-38.62</td>\n",
       "      <td>-45.59</td>\n",
       "      <td>-54.89</td>\n",
       "      <td>-62.28</td>\n",
       "    </tr>\n",
       "    <tr>\n",
       "      <th>1</th>\n",
       "      <td>-9.69</td>\n",
       "      <td>-10.86</td>\n",
       "      <td>-16.73</td>\n",
       "      <td>-21.75</td>\n",
       "      <td>-28.47</td>\n",
       "      <td>-35.83</td>\n",
       "      <td>-43.65</td>\n",
       "      <td>-52.43</td>\n",
       "      <td>-61.92</td>\n",
       "      <td>-71.27</td>\n",
       "    </tr>\n",
       "    <tr>\n",
       "      <th>2</th>\n",
       "      <td>-12.07</td>\n",
       "      <td>-14.28</td>\n",
       "      <td>-21.54</td>\n",
       "      <td>-27.92</td>\n",
       "      <td>-35.19</td>\n",
       "      <td>-43.94</td>\n",
       "      <td>-52.04</td>\n",
       "      <td>-62.49</td>\n",
       "      <td>-71.97</td>\n",
       "      <td>-83.10</td>\n",
       "    </tr>\n",
       "    <tr>\n",
       "      <th>3</th>\n",
       "      <td>-14.21</td>\n",
       "      <td>-17.41</td>\n",
       "      <td>-25.91</td>\n",
       "      <td>-33.36</td>\n",
       "      <td>-41.29</td>\n",
       "      <td>-51.27</td>\n",
       "      <td>-59.94</td>\n",
       "      <td>-71.55</td>\n",
       "      <td>-81.51</td>\n",
       "      <td>-93.83</td>\n",
       "    </tr>\n",
       "    <tr>\n",
       "      <th>4</th>\n",
       "      <td>-16.57</td>\n",
       "      <td>-20.35</td>\n",
       "      <td>-29.97</td>\n",
       "      <td>-37.84</td>\n",
       "      <td>-47.03</td>\n",
       "      <td>-57.29</td>\n",
       "      <td>-67.13</td>\n",
       "      <td>-78.96</td>\n",
       "      <td>-90.01</td>\n",
       "      <td>-102.65</td>\n",
       "    </tr>\n",
       "    <tr>\n",
       "      <th>...</th>\n",
       "      <td>...</td>\n",
       "      <td>...</td>\n",
       "      <td>...</td>\n",
       "      <td>...</td>\n",
       "      <td>...</td>\n",
       "      <td>...</td>\n",
       "      <td>...</td>\n",
       "      <td>...</td>\n",
       "      <td>...</td>\n",
       "      <td>...</td>\n",
       "    </tr>\n",
       "    <tr>\n",
       "      <th>20</th>\n",
       "      <td>-54.35</td>\n",
       "      <td>-56.09</td>\n",
       "      <td>-88.23</td>\n",
       "      <td>-90.54</td>\n",
       "      <td>-128.65</td>\n",
       "      <td>-132.19</td>\n",
       "      <td>-173.71</td>\n",
       "      <td>-179.36</td>\n",
       "      <td>-231.30</td>\n",
       "      <td>-239.19</td>\n",
       "    </tr>\n",
       "    <tr>\n",
       "      <th>21</th>\n",
       "      <td>-56.14</td>\n",
       "      <td>-57.35</td>\n",
       "      <td>-90.74</td>\n",
       "      <td>-92.60</td>\n",
       "      <td>-132.16</td>\n",
       "      <td>-135.36</td>\n",
       "      <td>-178.79</td>\n",
       "      <td>-183.93</td>\n",
       "      <td>-239.06</td>\n",
       "      <td>-246.53</td>\n",
       "    </tr>\n",
       "    <tr>\n",
       "      <th>22</th>\n",
       "      <td>-57.71</td>\n",
       "      <td>-58.37</td>\n",
       "      <td>-92.83</td>\n",
       "      <td>-93.91</td>\n",
       "      <td>-134.83</td>\n",
       "      <td>-137.56</td>\n",
       "      <td>-182.33</td>\n",
       "      <td>-187.16</td>\n",
       "      <td>-243.12</td>\n",
       "      <td>-250.30</td>\n",
       "    </tr>\n",
       "    <tr>\n",
       "      <th>23</th>\n",
       "      <td>-58.36</td>\n",
       "      <td>-58.92</td>\n",
       "      <td>-94.31</td>\n",
       "      <td>-95.13</td>\n",
       "      <td>-136.44</td>\n",
       "      <td>-138.96</td>\n",
       "      <td>-184.70</td>\n",
       "      <td>-189.32</td>\n",
       "      <td>-246.15</td>\n",
       "      <td>-252.80</td>\n",
       "    </tr>\n",
       "    <tr>\n",
       "      <th>24</th>\n",
       "      <td>-59.00</td>\n",
       "      <td>-59.26</td>\n",
       "      <td>-94.97</td>\n",
       "      <td>-95.51</td>\n",
       "      <td>-137.28</td>\n",
       "      <td>-139.36</td>\n",
       "      <td>-186.98</td>\n",
       "      <td>-191.19</td>\n",
       "      <td>-248.98</td>\n",
       "      <td>-255.23</td>\n",
       "    </tr>\n",
       "  </tbody>\n",
       "</table>\n",
       "<p>125 rows × 10 columns</p>\n",
       "</div>"
      ],
      "text/plain": [
       "        0      1      2      3       4       5       6       7       8       9\n",
       "0  -10.06 -10.62 -14.43 -18.31  -24.64  -30.56  -38.62  -45.59  -54.89  -62.28\n",
       "1   -9.69 -10.86 -16.73 -21.75  -28.47  -35.83  -43.65  -52.43  -61.92  -71.27\n",
       "2  -12.07 -14.28 -21.54 -27.92  -35.19  -43.94  -52.04  -62.49  -71.97  -83.10\n",
       "3  -14.21 -17.41 -25.91 -33.36  -41.29  -51.27  -59.94  -71.55  -81.51  -93.83\n",
       "4  -16.57 -20.35 -29.97 -37.84  -47.03  -57.29  -67.13  -78.96  -90.01 -102.65\n",
       "..    ...    ...    ...    ...     ...     ...     ...     ...     ...     ...\n",
       "20 -54.35 -56.09 -88.23 -90.54 -128.65 -132.19 -173.71 -179.36 -231.30 -239.19\n",
       "21 -56.14 -57.35 -90.74 -92.60 -132.16 -135.36 -178.79 -183.93 -239.06 -246.53\n",
       "22 -57.71 -58.37 -92.83 -93.91 -134.83 -137.56 -182.33 -187.16 -243.12 -250.30\n",
       "23 -58.36 -58.92 -94.31 -95.13 -136.44 -138.96 -184.70 -189.32 -246.15 -252.80\n",
       "24 -59.00 -59.26 -94.97 -95.51 -137.28 -139.36 -186.98 -191.19 -248.98 -255.23\n",
       "\n",
       "[125 rows x 10 columns]"
      ]
     },
     "execution_count": 9,
     "metadata": {},
     "output_type": "execute_result"
    }
   ],
   "source": [
    "dataset"
   ]
  },
  {
   "cell_type": "markdown",
   "metadata": {},
   "source": [
    "### Save Final Dataset into CSV"
   ]
  },
  {
   "cell_type": "code",
   "execution_count": 10,
   "metadata": {
    "id": "P25gF8foSobx"
   },
   "outputs": [],
   "source": [
    "dataset.to_csv('final_QCM.csv',header=None,index=False)"
   ]
  },
  {
   "cell_type": "code",
   "execution_count": 11,
   "metadata": {
    "id": "m4LzVk-aRo4M"
   },
   "outputs": [],
   "source": [
    "pathQCM = 'final_QCM.csv'\n",
    "dataQCM = np.genfromtxt(pathQCM, delimiter=',')"
   ]
  },
  {
   "cell_type": "code",
   "execution_count": 12,
   "metadata": {
    "colab": {
     "base_uri": "https://localhost:8080/"
    },
    "id": "08IdYgupSXkD",
    "outputId": "4ee23f1a-34ec-4fb3-90d2-fe5d19b89384"
   },
   "outputs": [
    {
     "data": {
      "text/plain": [
       "array([[ -10.06,  -10.62,  -14.43, ...,  -45.59,  -54.89,  -62.28],\n",
       "       [  -9.69,  -10.86,  -16.73, ...,  -52.43,  -61.92,  -71.27],\n",
       "       [ -12.07,  -14.28,  -21.54, ...,  -62.49,  -71.97,  -83.1 ],\n",
       "       ...,\n",
       "       [ -57.71,  -58.37,  -92.83, ..., -187.16, -243.12, -250.3 ],\n",
       "       [ -58.36,  -58.92,  -94.31, ..., -189.32, -246.15, -252.8 ],\n",
       "       [ -59.  ,  -59.26,  -94.97, ..., -191.19, -248.98, -255.23]])"
      ]
     },
     "execution_count": 12,
     "metadata": {},
     "output_type": "execute_result"
    }
   ],
   "source": [
    "dataQCM"
   ]
  },
  {
   "cell_type": "markdown",
   "metadata": {},
   "source": [
    "### Fuzzy C-Means structure"
   ]
  },
  {
   "cell_type": "markdown",
   "metadata": {},
   "source": [
    "#### Finding minimum and maximum in the given dataset"
   ]
  },
  {
   "cell_type": "code",
   "execution_count": 13,
   "metadata": {
    "id": "F71dsP-rSY9i"
   },
   "outputs": [],
   "source": [
    "def find_max(dataset):\n",
    "  cols = dataset.shape[1]\n",
    "  max_in_dataset = -sys.maxsize\n",
    "  for col in range(cols):\n",
    "    if max(dataset[:, col]) > max_in_dataset:\n",
    "      max_in_dataset = max(dataset[:, col])\n",
    "  return max_in_dataset"
   ]
  },
  {
   "cell_type": "code",
   "execution_count": 14,
   "metadata": {
    "id": "BnbUr0oWSxn3"
   },
   "outputs": [],
   "source": [
    "def find_min(dataset):\n",
    "  cols = dataset.shape[1]\n",
    "  min_in_dataset = sys.maxsize\n",
    "  for col in range(cols):\n",
    "    if min(dataset[:, col]) < min_in_dataset:\n",
    "      min_in_dataset = min(dataset[:, col])\n",
    "  return min_in_dataset"
   ]
  },
  {
   "cell_type": "markdown",
   "metadata": {},
   "source": [
    "### Randomely choose a value for each dimmension (feature)"
   ]
  },
  {
   "cell_type": "code",
   "execution_count": 15,
   "metadata": {
    "id": "_TnXJy5uSzzH"
   },
   "outputs": [],
   "source": [
    "def initialize_centroids(dataset, k, minimum, maximum):\n",
    "  cols = dataset.shape[1]\n",
    "  centroids = np.array([np.array([random.uniform(minimum, maximum) for col in range(cols)]) for i in range(k)])\n",
    "  return centroids"
   ]
  },
  {
   "cell_type": "markdown",
   "metadata": {},
   "source": [
    "### Calculate fuzziness for each point"
   ]
  },
  {
   "cell_type": "markdown",
   "metadata": {},
   "source": [
    "# <br>\n",
    "![u.png](data:image/png;base64,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)"
   ]
  },
  {
   "cell_type": "code",
   "execution_count": 16,
   "metadata": {
    "id": "LGdjqOdeS1HA"
   },
   "outputs": [],
   "source": [
    "def update_data_fuzziness(dataset, centroids, m):\n",
    "  u = np.array([[1 / np.sum([(np.linalg.norm(data - vi) / np.linalg.norm(data - vj)) ** (2 / (m - 1)) for vj in centroids]) for vi in centroids]for data in dataset], dtype='float64')  \n",
    "  return u"
   ]
  },
  {
   "cell_type": "markdown",
   "metadata": {},
   "source": [
    "### Modifying means"
   ]
  },
  {
   "cell_type": "markdown",
   "metadata": {},
   "source": [
    "# <br>\n",
    "\n",
    "![image.png](data:image/png;base64,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)"
   ]
  },
  {
   "cell_type": "code",
   "execution_count": 17,
   "metadata": {
    "id": "JQPj6I6JS2o7"
   },
   "outputs": [],
   "source": [
    "def modify_centroids(num_centroids, u, dataset, m):\n",
    "  N = len(dataset)\n",
    "  centroids = np.array([np.add.reduce([(u[k, i] ** m) * dataset[k] for k in range(N)]) / np.sum([u_[i] ** m for u_ in u]) for i in range(num_centroids)])\n",
    "  return centroids"
   ]
  },
  {
   "cell_type": "markdown",
   "metadata": {},
   "source": [
    "### Calculating errors"
   ]
  },
  {
   "cell_type": "code",
   "execution_count": 18,
   "metadata": {
    "id": "0Z0VSWy4S4TE"
   },
   "outputs": [],
   "source": [
    "def error_calculator(u, m, dataset, centroids):\n",
    "  error = np.sum([np.sum([(u[j, i] ** m) * (np.linalg.norm(dataset[j] - centroids[i]) ** 2) \n",
    "            for i in range(len(centroids))]) \n",
    "      for j in range(len(dataset))])\n",
    "  return error"
   ]
  },
  {
   "cell_type": "markdown",
   "metadata": {},
   "source": [
    "### Creating the model"
   ]
  },
  {
   "cell_type": "code",
   "execution_count": 19,
   "metadata": {
    "id": "xvlRTFyIS6CY"
   },
   "outputs": [],
   "source": [
    "def fuzzy_cmeans_model(dataset, k, num_iterations, m):\n",
    "  minimum = find_min(dataset)\n",
    "  maximum = find_max(dataset)\n",
    "\n",
    "  centroids = initialize_centroids(dataset, k, minimum, maximum)\n",
    "\n",
    "  for i in range(num_iterations):\n",
    "    u = update_data_fuzziness(dataset, centroids, m)\n",
    "    centroids = modify_centroids(len(centroids), u, dataset, m)\n",
    "    error = error_calculator(u, m, dataset, centroids)\n",
    "\n",
    "  return centroids, u, error"
   ]
  },
  {
   "cell_type": "markdown",
   "metadata": {},
   "source": [
    "### Plotting the results"
   ]
  },
  {
   "cell_type": "code",
   "execution_count": 20,
   "metadata": {
    "id": "b1tRl7o0S7hR"
   },
   "outputs": [],
   "source": [
    "def plot_results(dataset, u, centroids, k):\n",
    "  plt.figure(figsize=(8,6))\n",
    "  plt.scatter(dataset[:, 0], dataset[:, 1])\n",
    "  for cluster in range(k):\n",
    "      clusteredData = np.array([dataset[i] for i in range(len(dataset)) \n",
    "          if cluster == np.argmax(u[i])])\n",
    "      plt.scatter(clusteredData[:, 0], clusteredData[:, 1])\n",
    "  plt.scatter(centroids[:, 0], centroids[:, 1], color='black', s=100)\n",
    "  plt.show()"
   ]
  },
  {
   "cell_type": "code",
   "execution_count": 21,
   "metadata": {
    "id": "8_ik67d1S8S_"
   },
   "outputs": [],
   "source": [
    "def fuzzy_plot(dataset, u, centroids, k):\n",
    "  plt.figure(figsize=(8,6))\n",
    "  plt.scatter(dataset[:, 0], dataset[:, 1], c=u)\n",
    "  plt.scatter(centroids[:, 0], centroids[:, 1], color='black', s=100)"
   ]
  },
  {
   "cell_type": "markdown",
   "metadata": {},
   "source": [
    "### Impleneting algorithm for Dataset"
   ]
  },
  {
   "cell_type": "code",
   "execution_count": 31,
   "metadata": {
    "id": "Lg1-LZvPS-AG"
   },
   "outputs": [],
   "source": [
    "errors = []\n",
    "\n",
    "for i in range(1,10):\n",
    "  centroids, u, error = fuzzy_cmeans_model(dataset=dataQCM, k=i, num_iterations=100, m=2)\n",
    "  errors.append(error)"
   ]
  },
  {
   "cell_type": "code",
   "execution_count": 32,
   "metadata": {
    "colab": {
     "base_uri": "https://localhost:8080/",
     "height": 404
    },
    "id": "m-TD5MJVTAj0",
    "outputId": "41973f16-e661-412f-ea25-d3b741815484"
   },
   "outputs": [
    {
     "data": {
      "image/png": "[encoded data removed]",
      "text/plain": [
       "<Figure size 576x432 with 1 Axes>"
      ]
     },
     "metadata": {
      "needs_background": "light"
     },
     "output_type": "display_data"
    }
   ],
   "source": [
    "plt.figure(figsize = (8,6))\n",
    "plt.plot(np.arange(1, 10), errors)\n",
    "plt.title('Errors with different number of clusters for Dataset')\n",
    "plt.xlabel('number of clusters')\n",
    "plt.ylabel('error')\n",
    "plt.show()"
   ]
  },
  {
   "cell_type": "code",
   "execution_count": 33,
   "metadata": {},
   "outputs": [
    {
     "name": "stdout",
     "output_type": "stream",
     "text": [
      "[5349251.173192, 1322018.370411783, 552013.7781680705, 322045.7441320725, 228161.06340106565, 175950.1655450468, 146237.9299553237, 130563.51580720895, 101614.2262083058]\n"
     ]
    }
   ],
   "source": [
    "print(errors)"
   ]
  },
  {
   "cell_type": "markdown",
   "metadata": {},
   "source": [
    "### We can see that k=3 is a good choice for number of clusters because error redauction rate is very low after that."
   ]
  },
  {
   "cell_type": "code",
   "execution_count": 24,
   "metadata": {
    "colab": {
     "base_uri": "https://localhost:8080/",
     "height": 374
    },
    "id": "JXbYvpxnXcy-",
    "outputId": "dc687b4f-00b7-44a7-da6d-64dd9edb7288",
    "scrolled": true
   },
   "outputs": [
    {
     "data": {
      "image/png": "[encoded data removed]",
      "text/plain": [
       "<Figure size 576x432 with 1 Axes>"
      ]
     },
     "metadata": {
      "needs_background": "light"
     },
     "output_type": "display_data"
    }
   ],
   "source": [
    "centroids, u, error = fuzzy_cmeans_model(dataset=dataQCM, k=3, num_iterations=100, m=2)\n",
    "plot_results(dataQCM, u, centroids, k=3)"
   ]
  },
  {
   "cell_type": "markdown",
   "metadata": {},
   "source": [
    "### Trying different values for m"
   ]
  },
  {
   "cell_type": "code",
   "execution_count": 34,
   "metadata": {
    "id": "FrPD8M3qfedV"
   },
   "outputs": [],
   "source": [
    "errors = []\n",
    "\n",
    "for i in range(2,12):\n",
    "  centroids, u, error = fuzzy_cmeans_model(dataset=dataQCM, k=3, num_iterations=100, m=i)\n",
    "  errors.append(error)"
   ]
  },
  {
   "cell_type": "code",
   "execution_count": 35,
   "metadata": {
    "colab": {
     "base_uri": "https://localhost:8080/",
     "height": 404
    },
    "id": "LONg0iMEn5Ch",
    "outputId": "f7b548f0-d940-45d8-f32f-0c2bbc3aae69"
   },
   "outputs": [
    {
     "data": {
      "image/png": "[encoded data removed]",
      "text/plain": [
       "<Figure size 576x432 with 1 Axes>"
      ]
     },
     "metadata": {
      "needs_background": "light"
     },
     "output_type": "display_data"
    }
   ],
   "source": [
    "plt.figure(figsize = (8,6))\n",
    "plt.plot(errors)\n",
    "plt.title('Errors with different values for m for Dataset')\n",
    "plt.xlabel('value of m')\n",
    "plt.ylabel('error')\n",
    "plt.show()"
   ]
  },
  {
   "cell_type": "code",
   "execution_count": 36,
   "metadata": {},
   "outputs": [
    {
     "name": "stdout",
     "output_type": "stream",
     "text": [
      "[552013.7781680705, 273675.31972060935, 109522.60841735757, 40286.058213249526, 14326.817848193461, 4933.596429214704, 1683.2837036939657, 570.9975853004663, 192.94227544508362, 65.01872774728781]\n"
     ]
    }
   ],
   "source": [
    "print(errors)"
   ]
  },
  {
   "cell_type": "markdown",
   "metadata": {},
   "source": [
    "### When we convert the fuzzy data into crisp data then there is no obvious change when we plot the data points."
   ]
  },
  {
   "cell_type": "markdown",
   "metadata": {},
   "source": [
    "### Fuzzy Plotting"
   ]
  },
  {
   "cell_type": "code",
   "execution_count": 44,
   "metadata": {
    "colab": {
     "base_uri": "https://localhost:8080/",
     "height": 374
    },
    "id": "J0CTeee7n5P0",
    "outputId": "2b0deec1-f28d-4cec-ea92-d074251cf0d9",
    "scrolled": true
   },
   "outputs": [
    {
     "data": {
      "image/png": "[encoded data removed]",
      "text/plain": [
       "<Figure size 576x432 with 1 Axes>"
      ]
     },
     "metadata": {
      "needs_background": "light"
     },
     "output_type": "display_data"
    }
   ],
   "source": [
    "centroids, u, error = fuzzy_cmeans_model(dataset=dataQCM, k=3, num_iterations=100, m=3)\n",
    "fuzzy_plot(dataQCM, u, centroids, k=3)"
   ]
  },
  {
   "cell_type": "markdown",
   "metadata": {},
   "source": [
    "### Gradient Color Means Two Subset in One Cluster"
   ]
  },
  {
   "cell_type": "code",
   "execution_count": null,
   "metadata": {},
   "outputs": [],
   "source": []
  }
 ],
 "metadata": {
  "colab": {
   "collapsed_sections": [],
   "name": "Nomor3_FuzzyCMeansClustering_UAS_CI2.ipynb",
   "provenance": []
  },
  "kernelspec": {
   "display_name": "Python 3",
   "language": "python",
   "name": "python3"
  },
  "language_info": {
   "codemirror_mode": {
    "name": "ipython",
    "version": 3
   },
   "file_extension": ".py",
   "mimetype": "text/x-python",
   "name": "python",
   "nbconvert_exporter": "python",
   "pygments_lexer": "ipython3",
   "version": "3.7.6"
  }
 },
 "nbformat": 4,
 "nbformat_minor": 1
}
